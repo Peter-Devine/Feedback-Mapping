{
 "cells": [
  {
   "cell_type": "code",
   "execution_count": null,
   "metadata": {},
   "outputs": [],
   "source": [
    "from data.downloader import get_data\n",
    "\n",
    "from mapping.mapper import map_data\n",
    "\n",
    "from visualisation.visualise import visualise_data\n",
    "\n",
    "from clustering.clusterer import cluster_data\n",
    "\n",
    "from utils.utils import get_random_seed, set_random_seed\n",
    "\n",
    "datasets = [\"guzman_2015\", \"williams_2017\"]\n",
    "embeddings = [\"bert_cls_trained\"]\n",
    "\n",
    "set_random_seed(111)\n",
    "\n",
    "get_data(datasets)\n",
    "\n",
    "map_data(datasets, embeddings)\n",
    "\n",
    "visualise_data(datasets, embeddings)\n",
    "\n",
    "cluster_data(datasets, embeddings)\n"
   ]
  }
 ],
 "metadata": {
  "kernelspec": {
   "display_name": "Python 3",
   "language": "python",
   "name": "python3"
  },
  "language_info": {
   "codemirror_mode": {
    "name": "ipython",
    "version": 3
   },
   "file_extension": ".py",
   "mimetype": "text/x-python",
   "name": "python",
   "nbconvert_exporter": "python",
   "pygments_lexer": "ipython3",
   "version": "3.7.7"
  }
 },
 "nbformat": 4,
 "nbformat_minor": 4
}
